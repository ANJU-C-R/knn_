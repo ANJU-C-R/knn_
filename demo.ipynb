{
 "cells": [
  {
   "cell_type": "code",
   "execution_count": null,
   "metadata": {},
   "outputs": [],
   "source": [
    "from sklearn.neighbors import KNeighborsClassifier\n",
    "from sklearn.model_selection import cross_val_score,GridSearchCV\n",
    "# STEP 8: FINDING OPTIMAL K USING CROSS-VALIDATION\n",
    "from sklearn.model_selection import cross_val_score  \n",
    "import matplotlib.pyplot as plt  \n",
    "\n",
    "k_values = range(1, 31)\n",
    "cv_scores = [cross_val_score(KNeighborsClassifier(n_neighbors=k), x_train, y_train, cv=5).mean() for k in k_values]\n",
    "\n",
    "# Find the best k\n",
    "best_k = k_values[np.argmax(cv_scores)]\n",
    "best_score = max(cv_scores)\n",
    "\n",
    "# Plot accuracy vs. k values\n",
    "plt.figure(figsize=(10, 5))\n",
    "plt.plot(k_values, cv_scores, marker='o', linestyle='dashed', color='b', label='Cross-Validation Accuracy')\n",
    "plt.axvline(best_k, color='r', linestyle='--', label=f'Optimal k = {best_k}')\n",
    "plt.xlabel(\"Number of Neighbors (k)\")\n",
    "plt.ylabel(\"Cross-Validation Accuracy\")\n",
    "plt.title(\"Choosing the Optimal k for KNN\")\n",
    "plt.legend()\n",
    "plt.show()\n",
    "\n",
    "print(f\"Optimal k found: {best_k} with Cross-Validation Accuracy: {best_score:.4f}\")"
   ]
  },
  {
   "cell_type": "code",
   "execution_count": null,
   "metadata": {},
   "outputs": [],
   "source": [
    "_values = list(range(1, 31))\n",
    "\n",
    "# Use GridSearchCV to find the best k value\n",
    "param_grid = {'n_neighbors': k_values}\n",
    "knn = KNeighborsClassifier()\n",
    "grid_search = GridSearchCV(knn, param_grid, cv=5, scoring='accuracy')\n",
    "grid_search.fit(x_train, y_train)\n",
    "\n",
    "# Get the best k value\n",
    "best_k = grid_search.best_params_['n_neighbors']\n",
    "best_score = grid_search.best_score_\n",
    "\n",
    "print(f\"Optimal value of k: {best_k}\")\n",
    "print(f\"Best cross-validation accuracy: {best_score:.4f}\")"
   ]
  }
 ],
 "metadata": {
  "kernelspec": {
   "display_name": "base",
   "language": "python",
   "name": "python3"
  },
  "language_info": {
   "codemirror_mode": {
    "name": "ipython",
    "version": 3
   },
   "file_extension": ".py",
   "mimetype": "text/x-python",
   "name": "python",
   "nbconvert_exporter": "python",
   "pygments_lexer": "ipython3",
   "version": "3.11.7"
  }
 },
 "nbformat": 4,
 "nbformat_minor": 2
}
